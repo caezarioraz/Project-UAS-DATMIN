{
 "cells": [
  {
   "cell_type": "code",
   "execution_count": 1,
   "id": "8c57d0b1-5f6c-4408-a1b6-ce44efa784f9",
   "metadata": {},
   "outputs": [],
   "source": [
    "import pandas as pd"
   ]
  },
  {
   "cell_type": "code",
   "execution_count": 2,
   "id": "1984a721-7015-4553-b61f-11034a0e45cd",
   "metadata": {},
   "outputs": [],
   "source": [
    "file_path = 'miami-housing.csv'\n",
    "df = pd.read_csv(file_path)"
   ]
  },
  {
   "cell_type": "code",
   "execution_count": null,
   "id": "d7c88c29-ba60-4672-8b07-4583148bc72a",
   "metadata": {},
   "outputs": [],
   "source": []
  }
 ],
 "metadata": {
  "kernelspec": {
   "display_name": "Python 3 (ipykernel)",
   "language": "python",
   "name": "python3"
  },
  "language_info": {
   "codemirror_mode": {
    "name": "ipython",
    "version": 3
   },
   "file_extension": ".py",
   "mimetype": "text/x-python",
   "name": "python",
   "nbconvert_exporter": "python",
   "pygments_lexer": "ipython3",
   "version": "3.12.2"
  }
 },
 "nbformat": 4,
 "nbformat_minor": 5
}
